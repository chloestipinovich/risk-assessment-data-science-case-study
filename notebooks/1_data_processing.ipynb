{
 "cells": [
  {
   "cell_type": "code",
   "execution_count": 187,
   "id": "68912dc7",
   "metadata": {},
   "outputs": [],
   "source": [
    "# Import required libraries\n",
    "import pandas as pd\n",
    "import numpy as np\n",
    "import matplotlib.pyplot as plt\n",
    "import seaborn as sns\n",
    "from matplotlib.colors import ListedColormap\n",
    "from sklearn.linear_model import LinearRegression\n",
    "from typing import List, Tuple, Optional\n",
    "import warnings\n",
    "warnings.filterwarnings('ignore')"
   ]
  },
  {
   "cell_type": "code",
   "execution_count": null,
   "id": "ec665e1a",
   "metadata": {},
   "outputs": [],
   "source": [
    "# Define the file paths for the raw data\n",
    "data_raw = \"../data/raw\"\n",
    "applications_fp = f\"{data_raw}/applications.csv\"\n",
    "company_fp = f\"{data_raw}/company_data.csv\"\n",
    "payments_fp = f\"{data_raw}/payment_performance.csv\""
   ]
  },
  {
   "cell_type": "code",
   "execution_count": 189,
   "id": "4d0e5eeb",
   "metadata": {},
   "outputs": [],
   "source": [
    "# Load the Raw Data\n",
    "apps = pd.read_csv(applications_fp, parse_dates=['application_date'])\n",
    "company = pd.read_csv(company_fp, parse_dates=['incorporation_date'])\n",
    "payments = pd.read_csv(payments_fp, parse_dates=['invoice_date','due_date','payment_date'])\n"
   ]
  },
  {
   "cell_type": "code",
   "execution_count": 190,
   "id": "775ce669",
   "metadata": {},
   "outputs": [
    {
     "name": "stdout",
     "output_type": "stream",
     "text": [
      "Applications shape: (4000, 7)\n",
      "Company data shape: (1458, 8)\n",
      "Payments shape: (4000, 7)\n"
     ]
    }
   ],
   "source": [
    "print(\"Applications shape:\", apps.shape)\n",
    "print(\"Company data shape:\", company.shape)\n",
    "print(\"Payments shape:\", payments.shape)"
   ]
  },
  {
   "cell_type": "markdown",
   "id": "d850168f",
   "metadata": {},
   "source": [
    "# 1. Missing Data Analysis"
   ]
  },
  {
   "cell_type": "code",
   "execution_count": 191,
   "id": "c48ae414",
   "metadata": {},
   "outputs": [
    {
     "name": "stdout",
     "output_type": "stream",
     "text": [
      "Duplicates in apps: 0\n",
      "Duplicates in company: 0\n",
      "Duplicates in payments (invoice+company): 0\n"
     ]
    }
   ],
   "source": [
    "# Duplicates\n",
    "print(\"Duplicates in apps:\", apps.duplicated('application_id').sum())\n",
    "print(\"Duplicates in company:\", company.duplicated('company_id').sum())\n",
    "print(\"Duplicates in payments (invoice+company):\", payments.duplicated(['company_id','invoice_id']).sum())"
   ]
  },
  {
   "cell_type": "markdown",
   "id": "b34a10a1",
   "metadata": {},
   "source": [
    "## 1.1 Applications (`apps`)"
   ]
  },
  {
   "cell_type": "code",
   "execution_count": 192,
   "id": "c1586693",
   "metadata": {},
   "outputs": [
    {
     "name": "stdout",
     "output_type": "stream",
     "text": [
      "=== apps DataFrame ===\n",
      "                  missing_count  missing_pct\n",
      "risk_score                  176          4.4\n",
      "company_id                    0          0.0\n",
      "application_id                0          0.0\n",
      "application_date              0          0.0\n",
      "requested_amount              0          0.0\n",
      "approved_amount               0          0.0\n",
      "invoice_id                    0          0.0\n"
     ]
    }
   ],
   "source": [
    "# Inspect missing values in the apps DataFrame \n",
    "summary = (\n",
    "    pd.concat([apps.isnull().sum(), apps.isnull().mean() * 100], axis=1, keys=['missing_count', 'missing_pct'])\n",
    "      .sort_values(by='missing_count', ascending=False)\n",
    ")\n",
    "\n",
    "print(\"=== apps DataFrame ===\")\n",
    "print(summary)"
   ]
  },
  {
   "cell_type": "markdown",
   "id": "a9004f7c",
   "metadata": {},
   "source": [
    "- **Missingness**  \n",
    "  - Only **4.4%** of records lack a `risk_score`.  \n",
    "  - All other fields are complete.\n",
    "- **Implications**  \n",
    "  - Since `risk_score` is a primary model input, options include:  \n",
    "    - **Impute** missing scores via a simple proxy (e.g. regression on approved/requested amounts)  \n",
    "    - **Flag** “no score” as its own category  \n",
    "    - **Drop** ~4% of rows if time-constrained\n",
    "- **Decision**  \n",
    "  - Impute missing risk_score values by fitting a simple linear regression on approved_amount and requested_amount. See Section 3.1.\n",
    "- **Further Investigation (Time Permitting)**  \n",
    "  - Run a sensitivity check: does dropping vs. imputing these rows meaningfully change your segment comparisons or model performance?"
   ]
  },
  {
   "cell_type": "markdown",
   "id": "4340d354",
   "metadata": {},
   "source": [
    "## 1.2 Payment Performance (`payments`)"
   ]
  },
  {
   "cell_type": "code",
   "execution_count": 193,
   "id": "393cc748",
   "metadata": {},
   "outputs": [
    {
     "name": "stdout",
     "output_type": "stream",
     "text": [
      "=== payments DataFrame ===\n",
      "                missing_count  missing_pct\n",
      "payment_date              268          6.7\n",
      "invoice_id                  0          0.0\n",
      "company_id                  0          0.0\n",
      "invoice_amount              0          0.0\n",
      "invoice_date                0          0.0\n",
      "due_date                    0          0.0\n",
      "default_status              0          0.0\n"
     ]
    }
   ],
   "source": [
    "# Inspect missing values in the payments DataFrame \n",
    "summary = (\n",
    "    pd.concat([payments.isnull().sum(), payments.isnull().mean() * 100], axis=1, keys=['missing_count', 'missing_pct'])\n",
    "      .sort_values(by='missing_count', ascending=False)\n",
    ")\n",
    "\n",
    "print(\"=== payments DataFrame ===\")\n",
    "print(summary)"
   ]
  },
  {
   "cell_type": "markdown",
   "id": "7930ed36",
   "metadata": {},
   "source": [
    "- **Missingness**  \n",
    "  - `payment_date`: **6.7%** missing  \n",
    "  - All other fields are complete.\n",
    "- **Assumption**  \n",
    "  - Missing `payment_date` likely indicates non-payment and would align with company defaults.  \n",
    "- **Decision**  \n",
    "  - Since the `payment_date` field represents **future behavior**, it would constitute a **data leakage** if used in any predictive model, and so imputation would not be logical.\n",
    "  - Sanity check the assumption above for data quality purposes."
   ]
  },
  {
   "cell_type": "code",
   "execution_count": 194,
   "id": "16ea73c5",
   "metadata": {},
   "outputs": [
    {
     "data": {
      "image/png": "[encoded data removed]",
      "text/plain": [
       "<Figure size 500x500 with 1 Axes>"
      ]
     },
     "metadata": {},
     "output_type": "display_data"
    }
   ],
   "source": [
    "# Filter rows where payment_date is missing\n",
    "missing_payments = payments[payments['payment_date'].isnull()]\n",
    "\n",
    "# Count True vs False in default_status\n",
    "counts = missing_payments['default_status'].value_counts()\n",
    "labels = ['Default (True)', 'Non-default (False)']\n",
    "sizes = [counts.get(True, 0), counts.get(False, 0)]\n",
    "\n",
    "# Create Seaborn-style pie chart\n",
    "sns.set_theme(style=\"white\")\n",
    "colors = sns.color_palette(\"pastel\")[:2]  # soft colors for pie chart\n",
    "\n",
    "plt.figure(figsize=(5, 5))\n",
    "plt.pie(\n",
    "    sizes,\n",
    "    labels=labels,\n",
    "    autopct='%1.1f%%',\n",
    "    startangle=90,\n",
    "    colors=colors,\n",
    "    wedgeprops={'edgecolor': 'gray'}\n",
    ")\n",
    "plt.title('Default Status for Missing Payment Dates')\n",
    "plt.legend(title=\"Default Status\")\n",
    "plt.tight_layout()\n",
    "plt.show()"
   ]
  },
  {
   "cell_type": "code",
   "execution_count": 195,
   "id": "1c8497e1",
   "metadata": {},
   "outputs": [
    {
     "name": "stdout",
     "output_type": "stream",
     "text": [
      "Rows with missing payment_date and default_status == False: 96\n"
     ]
    }
   ],
   "source": [
    "# Number of rows with missing payment_date AND default_status == False\n",
    "X = payments[payments['payment_date'].isnull() & (payments['default_status'] == False)].shape[0]\n",
    "print(\"Rows with missing payment_date and default_status == False:\", X)"
   ]
  },
  {
   "cell_type": "markdown",
   "id": "cfe05ee9",
   "metadata": {},
   "source": [
    "### Note on `payment_date` Missingness and Default Status\n",
    "- The `payment_date` field represents **future behavior** and would therefore constitute a **data leakage** if used in any predictive model.\n",
    "\n",
    "It is worth noting, however, that:\n",
    "- Approximately **64%** of records with a missing `payment_date` are marked as default (`default_status=True`), we would expect **100%** as if the company has not defaulted then it would have paid.\n",
    "- **96 rows** have a missing `payment_date` but are **not** marked as default (`default_status=False`). \n",
    "  - This inconsistency could be due to data entry issues, delayed updates, or differences in how default status is assigned.\n",
    "  - **Further investigation** into the business rules behind `default_status` and `payment_date` would be valuable in a production context.\n"
   ]
  },
  {
   "cell_type": "markdown",
   "id": "dc4134dc",
   "metadata": {},
   "source": [
    "## 1.3 Company Data (`company`)"
   ]
  },
  {
   "cell_type": "code",
   "execution_count": 196,
   "id": "f368d69d",
   "metadata": {},
   "outputs": [
    {
     "name": "stdout",
     "output_type": "stream",
     "text": [
      "=== company DataFrame ===\n",
      "                        missing_count  missing_pct\n",
      "net_worth                         185    12.688615\n",
      "working_capital                   185    12.688615\n",
      "industry_segment                  133     9.122085\n",
      "incorporation_date                122     8.367627\n",
      "postcode_area                     122     8.367627\n",
      "external_credit_rating            121     8.299040\n",
      "company_id                          0     0.000000\n",
      "legal_form                          0     0.000000\n"
     ]
    }
   ],
   "source": [
    "# Inspect missing values in the company DataFrame \n",
    "summary = (\n",
    "    pd.concat([company.isnull().sum(), company.isnull().mean() * 100], axis=1, keys=['missing_count', 'missing_pct'])\n",
    "      .sort_values(by='missing_count', ascending=False)\n",
    ")\n",
    "\n",
    "print(\"=== company DataFrame ===\")\n",
    "print(summary)"
   ]
  },
  {
   "cell_type": "markdown",
   "id": "59e27a84",
   "metadata": {},
   "source": [
    "- **Missingness**  \n",
    "  - `working_capital` & `net_worth`: ~12.7% missing  \n",
    "  - `industry_segment`, `incorporation_date`, `postcode_area`, `external_credit_rating`: ~8–9% missing  \n",
    "  - `legal_form` & `company_id`: 0% missing\n",
    "- **Implications**  \n",
    "  - The continuous variables; `net_worth`, `working_capital` and `incorporation_date` may have a significant impact on the model and ideally a deeper dive into the data collection method and more thoughtful data imputation would be applied.\n",
    "  - The categorical variables; `industry_segment`, `postcode_area`, `external_credit_rating` could use an **“Unknown”** level or **mode imputation** within similar companies.  \n",
    "- **Decision**  \n",
    "  - Create 'Unknown' category in categorical variables.\n",
    "  - Apply 'quick and dirty' median for numerical features in the interest of time.\n",
    "- **Further Investigation (Time Permitting)**  \n",
    "  - Run a sensitivity check: does dropping vs. imputing these rows meaningfully change my segment comparisons or model performance.\n",
    "  - Plan deeper missing-data strategies (multiple imputation, missForest) in a full analysis including a missing data audit (MCAR, MNAR, etc)."
   ]
  },
  {
   "cell_type": "markdown",
   "id": "84d33fb1",
   "metadata": {},
   "source": [
    "For interest's sake, visualise how mch the missing data ovrelas in the company dataframe:"
   ]
  },
  {
   "cell_type": "code",
   "execution_count": 197,
   "id": "68d0131b",
   "metadata": {},
   "outputs": [
    {
     "data": {
      "image/png": "[encoded data removed]",
      "text/plain": [
       "<Figure size 800x1200 with 1 Axes>"
      ]
     },
     "metadata": {},
     "output_type": "display_data"
    }
   ],
   "source": [
    "# Subset to rows with any missing values\n",
    "company_missing = company[company.isnull().any(axis=1)]\n",
    "\n",
    "# Create a boolean matrix for missingness\n",
    "miss_mat = company_missing.isnull().astype(int)\n",
    "\n",
    "# Plot a smaller seaborn heatmap\n",
    "plt.figure(figsize=(8, 12))\n",
    "sns.heatmap(\n",
    "    miss_mat,\n",
    "    cbar=False,\n",
    "    cmap = ListedColormap([\"#369746\", \"#f57f7f\"]),\n",
    "    yticklabels=False,      # hide row labels to keep it compact\n",
    "    xticklabels=miss_mat.columns,\n",
    "    linewidths=0.5,\n",
    "    linecolor='black'\n",
    ")\n",
    "plt.xticks(rotation=45, ha='right')\n",
    "plt.title('Missing Data Pattern (company)')\n",
    "plt.tight_layout()\n",
    "plt.show()"
   ]
  },
  {
   "cell_type": "code",
   "execution_count": 198,
   "id": "9f79721c",
   "metadata": {},
   "outputs": [],
   "source": [
    "# replace NaN values with 'unknown' in `industry_segment`, `postcode_area` and `external_credit_rating` columns of the company DataFrame\n",
    "cols_to_fill = ['industry_segment', 'postcode_area', 'external_credit_rating']\n",
    "company[cols_to_fill] = company[cols_to_fill].fillna('unknown')"
   ]
  },
  {
   "cell_type": "code",
   "execution_count": 199,
   "id": "8da11398",
   "metadata": {},
   "outputs": [],
   "source": [
    "# Columns to impute with median\n",
    "cols_median_fill = ['net_worth', 'working_capital', 'incorporation_date']\n",
    "\n",
    "# Impute each with its median\n",
    "for col in cols_median_fill:\n",
    "    median_val = company[col].median()\n",
    "    company[col] = company[col].fillna(median_val)\n"
   ]
  },
  {
   "cell_type": "markdown",
   "id": "7c08b5e9",
   "metadata": {},
   "source": [
    "# 2. Data Quality Checks"
   ]
  },
  {
   "cell_type": "code",
   "execution_count": 200,
   "id": "f252edaa",
   "metadata": {},
   "outputs": [
    {
     "data": {
      "text/plain": [
       "1458"
      ]
     },
     "execution_count": 200,
     "metadata": {},
     "output_type": "execute_result"
    }
   ],
   "source": [
    "# Number of unique companies\n",
    "company['company_id'].nunique()"
   ]
  },
  {
   "cell_type": "code",
   "execution_count": 201,
   "id": "a88b76aa",
   "metadata": {},
   "outputs": [
    {
     "name": "stdout",
     "output_type": "stream",
     "text": [
      "Company IDs in payments which are not in the company df: set()\n",
      "Company IDs in apps which are not in the company df: set()\n"
     ]
    }
   ],
   "source": [
    "# Check if all company_ids in payments and apps exist in company\n",
    "\n",
    "company_ids_company = set(company['company_id'])\n",
    "company_ids_payments = set(payments['company_id'])\n",
    "company_ids_apps = set(apps['company_id'])\n",
    "print(\"Company IDs in payments which are not in the company df:\", company_ids_payments - company_ids_company)\n",
    "print(\"Company IDs in apps which are not in the company df:\", company_ids_apps - company_ids_company)"
   ]
  },
  {
   "cell_type": "code",
   "execution_count": 202,
   "id": "aca72577",
   "metadata": {},
   "outputs": [
    {
     "name": "stdout",
     "output_type": "stream",
     "text": [
      "All company_ids in company df appear at least once in the payments df.\n",
      "All company_ids in company df appear at least once in the apps df.\n"
     ]
    }
   ],
   "source": [
    "# Check if all company_ids in company appear at least once in payments or apps\n",
    "\n",
    "# Check all company_ids in company appear at least once in payments\n",
    "if company_ids_company.issubset(company_ids_payments):\n",
    "    print(\"All company_ids in company df appear at least once in the payments df.\")\n",
    "else:\n",
    "    missing_in_payments = company_ids_company - company_ids_payments\n",
    "    print(\"Company IDs missing in payments:\", missing_in_payments)\n",
    "\n",
    "# Check all company_ids in company appear at least once in apps\n",
    "if company_ids_company.issubset(company_ids_apps):\n",
    "    print(\"All company_ids in company df appear at least once in the apps df.\")\n",
    "else:\n",
    "    missing_in_apps = company_ids_company - company_ids_apps\n",
    "    print(\"Company IDs missing in apps:\", missing_in_apps)"
   ]
  },
  {
   "cell_type": "markdown",
   "id": "0c4f4f50",
   "metadata": {},
   "source": [
    "Clean the company IDs so that they are more readable for the purpose of this task:"
   ]
  },
  {
   "cell_type": "code",
   "execution_count": 203,
   "id": "b152dafc",
   "metadata": {},
   "outputs": [],
   "source": [
    "def remap_ids(df_list: List[pd.DataFrame], id_col: str) -> Tuple[List[pd.DataFrame], pd.DataFrame]:\n",
    "    # Gather all unique values from the first DataFrame (assumed to contain the master list)\n",
    "    old_ids = df_list[0][id_col].unique()\n",
    "    \n",
    "    # Create a mapping from old to new friendly IDs\n",
    "    id_mapping = {old_id: new_id for new_id, old_id in enumerate(old_ids, start=1)}\n",
    "    \n",
    "    # Apply the mapping to each DataFrame\n",
    "    for df in df_list:\n",
    "        df[id_col] = df[id_col].map(id_mapping)\n",
    "    \n",
    "    # Return mapping DataFrame for reference\n",
    "    mapping_df = pd.DataFrame(list(id_mapping.items()), columns=[f'old_{id_col}', f'friendly_{id_col}'])\n",
    "    return df_list, mapping_df\n",
    "\n",
    "# Remap company_id\n",
    "[company, apps, payments], company_map = remap_ids([company, apps, payments], 'company_id')\n",
    "\n",
    "# Remap application_id in apps\n",
    "[apps], application_map = remap_ids([apps], 'application_id')\n",
    "\n",
    "# Remap invoice_id in both apps and payments\n",
    "[apps, payments], invoice_map = remap_ids([apps, payments], 'invoice_id')\n"
   ]
  },
  {
   "cell_type": "code",
   "execution_count": 204,
   "id": "bbff7a09",
   "metadata": {},
   "outputs": [
    {
     "name": "stdout",
     "output_type": "stream",
     "text": [
      "[1125]\n"
     ]
    }
   ],
   "source": [
    "# Lookup\n",
    "result = company_map.loc[company_map['old_company_id'] == '1,718,328,119,872,710,000', 'friendly_company_id']\n",
    "\n",
    "# Print result\n",
    "print(result.values)"
   ]
  },
  {
   "cell_type": "code",
   "execution_count": 205,
   "id": "38d8f1d5",
   "metadata": {},
   "outputs": [
    {
     "name": "stdout",
     "output_type": "stream",
     "text": [
      "Company ID Map Snippet:\n",
      "               old_company_id  friendly_company_id\n",
      "0   3,935,285,571,697,710,000                    1\n",
      "1   7,159,193,073,642,430,000                    2\n",
      "2  -4,640,137,908,825,900,000                    3\n",
      "3  -7,071,318,460,949,380,000                    4\n",
      "4  -6,022,528,274,177,040,000                    5\n",
      "Application ID Map Snippet:\n",
      "                     old_application_id  friendly_application_id\n",
      "0  5f73bf55-bb4b-47e7-bfac-4cecdcc1b4f4                        1\n",
      "1  3e59a50f-ffe6-456c-a383-6204509cc499                        2\n",
      "2  301202af-5bb2-4d29-b7c4-1a9c039fcab5                        3\n",
      "3  fcbf5c4e-e35e-4d4e-a185-24ca209cd878                        4\n",
      "4  661478b4-0682-4f19-9213-54b198e0a499                        5\n",
      "Invoice ID Map Snippet:\n",
      "                         old_invoice_id  friendly_invoice_id\n",
      "0  0a5dbb39-75df-42fb-a41a-7c626c83a7ca                    1\n",
      "1  f6147da3-5b9b-4769-adcc-adfef51c6ac3                    2\n",
      "2  1762f635-38a4-44e2-be08-c331f3c559aa                    3\n",
      "3  384263b1-f7f0-4948-a1f4-d28f65078183                    4\n",
      "4  faf7a028-a40d-46dd-87d8-60cc588883e9                    5\n"
     ]
    }
   ],
   "source": [
    "# company, apps, payments, id_map = remap_company_ids(company, apps, payments)\n",
    "print('Company ID Map Snippet:')\n",
    "print(company_map.head())  # old-to-new ID mapping\n",
    "\n",
    "print('Application ID Map Snippet:')\n",
    "print(application_map.head())\n",
    "\n",
    "print('Invoice ID Map Snippet:')\n",
    "print(invoice_map.head())"
   ]
  },
  {
   "cell_type": "markdown",
   "id": "94313a74",
   "metadata": {},
   "source": [
    "Sanity check that the same number of applications per company in the apps df appear in the payments df:"
   ]
  },
  {
   "cell_type": "code",
   "execution_count": 206,
   "id": "ec7b55d8",
   "metadata": {},
   "outputs": [
    {
     "data": {
      "text/html": [
       "<div>\n",
       "<style scoped>\n",
       "    .dataframe tbody tr th:only-of-type {\n",
       "        vertical-align: middle;\n",
       "    }\n",
       "\n",
       "    .dataframe tbody tr th {\n",
       "        vertical-align: top;\n",
       "    }\n",
       "\n",
       "    .dataframe thead th {\n",
       "        text-align: right;\n",
       "    }\n",
       "</style>\n",
       "<table border=\"1\" class=\"dataframe\">\n",
       "  <thead>\n",
       "    <tr style=\"text-align: right;\">\n",
       "      <th></th>\n",
       "      <th>company_id</th>\n",
       "      <th>apps_count</th>\n",
       "      <th>payments_count</th>\n",
       "    </tr>\n",
       "  </thead>\n",
       "  <tbody>\n",
       "    <tr>\n",
       "      <th>0</th>\n",
       "      <td>860</td>\n",
       "      <td>202</td>\n",
       "      <td>202</td>\n",
       "    </tr>\n",
       "    <tr>\n",
       "      <th>1</th>\n",
       "      <td>845</td>\n",
       "      <td>87</td>\n",
       "      <td>87</td>\n",
       "    </tr>\n",
       "    <tr>\n",
       "      <th>2</th>\n",
       "      <td>809</td>\n",
       "      <td>86</td>\n",
       "      <td>86</td>\n",
       "    </tr>\n",
       "    <tr>\n",
       "      <th>3</th>\n",
       "      <td>972</td>\n",
       "      <td>52</td>\n",
       "      <td>52</td>\n",
       "    </tr>\n",
       "    <tr>\n",
       "      <th>4</th>\n",
       "      <td>903</td>\n",
       "      <td>40</td>\n",
       "      <td>40</td>\n",
       "    </tr>\n",
       "    <tr>\n",
       "      <th>5</th>\n",
       "      <td>1312</td>\n",
       "      <td>37</td>\n",
       "      <td>37</td>\n",
       "    </tr>\n",
       "    <tr>\n",
       "      <th>6</th>\n",
       "      <td>647</td>\n",
       "      <td>34</td>\n",
       "      <td>34</td>\n",
       "    </tr>\n",
       "    <tr>\n",
       "      <th>7</th>\n",
       "      <td>1074</td>\n",
       "      <td>33</td>\n",
       "      <td>33</td>\n",
       "    </tr>\n",
       "    <tr>\n",
       "      <th>8</th>\n",
       "      <td>654</td>\n",
       "      <td>32</td>\n",
       "      <td>32</td>\n",
       "    </tr>\n",
       "    <tr>\n",
       "      <th>9</th>\n",
       "      <td>519</td>\n",
       "      <td>31</td>\n",
       "      <td>31</td>\n",
       "    </tr>\n",
       "  </tbody>\n",
       "</table>\n",
       "</div>"
      ],
      "text/plain": [
       "   company_id  apps_count  payments_count\n",
       "0         860         202             202\n",
       "1         845          87              87\n",
       "2         809          86              86\n",
       "3         972          52              52\n",
       "4         903          40              40\n",
       "5        1312          37              37\n",
       "6         647          34              34\n",
       "7        1074          33              33\n",
       "8         654          32              32\n",
       "9         519          31              31"
      ]
     },
     "execution_count": 206,
     "metadata": {},
     "output_type": "execute_result"
    }
   ],
   "source": [
    "# Get top 10 most frequent company_ids in apps\n",
    "top_companies = apps['company_id'].value_counts().head(10)\n",
    "\n",
    "# Build summary DataFrame\n",
    "summary_df = pd.DataFrame({\n",
    "    'apps_count': top_companies,\n",
    "    'payments_count': top_companies.index.map(payments['company_id'].value_counts()).fillna(0).astype(int)\n",
    "})\n",
    "\n",
    "# Reset index for nicer display\n",
    "summary_df.index.name = 'company_id'\n",
    "summary_df = summary_df.reset_index()\n",
    "summary_df"
   ]
  },
  {
   "cell_type": "markdown",
   "id": "251a4570",
   "metadata": {},
   "source": [
    "Note that many more data quality checks could be applied here, time permitting."
   ]
  },
  {
   "cell_type": "markdown",
   "id": "b28e220b",
   "metadata": {},
   "source": [
    "# 3. Data Cleaning & Feature Engineering"
   ]
  },
  {
   "cell_type": "markdown",
   "id": "86728728",
   "metadata": {},
   "source": [
    "## 3.1 Applications (`apps`)"
   ]
  },
  {
   "cell_type": "code",
   "execution_count": 207,
   "id": "8f31a3c1",
   "metadata": {},
   "outputs": [
    {
     "name": "stdout",
     "output_type": "stream",
     "text": [
      "<class 'pandas.core.frame.DataFrame'>\n",
      "RangeIndex: 4000 entries, 0 to 3999\n",
      "Data columns (total 7 columns):\n",
      " #   Column            Non-Null Count  Dtype         \n",
      "---  ------            --------------  -----         \n",
      " 0   application_id    4000 non-null   int64         \n",
      " 1   company_id        4000 non-null   int64         \n",
      " 2   application_date  4000 non-null   datetime64[ns]\n",
      " 3   requested_amount  4000 non-null   object        \n",
      " 4   approved_amount   4000 non-null   object        \n",
      " 5   risk_score        3824 non-null   float64       \n",
      " 6   invoice_id        4000 non-null   int64         \n",
      "dtypes: datetime64[ns](1), float64(1), int64(3), object(2)\n",
      "memory usage: 218.9+ KB\n"
     ]
    }
   ],
   "source": [
    "# View the data types in the apps df\n",
    "apps.info()"
   ]
  },
  {
   "cell_type": "code",
   "execution_count": null,
   "id": "7a89e42f",
   "metadata": {},
   "outputs": [],
   "source": [
    "# Create new date/time-related features\n",
    "apps['app_date_only'] = apps['application_date'].dt.date\n",
    "apps['app_day_of_week'] = apps['application_date'].dt.day_name()\n",
    "apps['app_time'] = apps['application_date'].dt.time"
   ]
  },
  {
   "cell_type": "code",
   "execution_count": 209,
   "id": "2670dd8e",
   "metadata": {},
   "outputs": [],
   "source": [
    "# clean the messy requested_amount feature\n",
    "apps['requested_amount_clean'] = apps['requested_amount'].astype(str) \\\n",
    "    .str.replace(',', '', regex=False)\n",
    "apps['requested_amount_clean'] = pd.to_numeric(\n",
    "    apps['requested_amount_clean'], errors='coerce'\n",
    ")"
   ]
  },
  {
   "cell_type": "code",
   "execution_count": 210,
   "id": "6b5a02bd",
   "metadata": {},
   "outputs": [],
   "source": [
    "# Log-transform requested amounts (add 1 to avoid log(0))\n",
    "apps['log_requested_amount'] = np.log1p(apps['requested_amount_clean'])"
   ]
  },
  {
   "cell_type": "code",
   "execution_count": 211,
   "id": "948ad848",
   "metadata": {},
   "outputs": [
    {
     "data": {
      "text/plain": [
       "array(['10000-50000', '100000-500000', 'over 500000', '50000-100000',\n",
       "       '1000-5000', '5000-10000', 'up to 1000'], dtype=object)"
      ]
     },
     "execution_count": 211,
     "metadata": {},
     "output_type": "execute_result"
    }
   ],
   "source": [
    "# View the approved_amount categories\n",
    "apps['approved_amount'].unique()"
   ]
  },
  {
   "cell_type": "code",
   "execution_count": 212,
   "id": "02850023",
   "metadata": {},
   "outputs": [],
   "source": [
    "# Categorize the approved_amount feature\n",
    "bands = [\n",
    "    'up to 1000',\n",
    "    '1000-5000',\n",
    "    '5000-10000',\n",
    "    '10000-50000',\n",
    "    '50000-100000',\n",
    "    '100000-500000',\n",
    "    'over 500000'\n",
    "]\n",
    "\n",
    "# Convert to an ordered CategoricalDtype\n",
    "approved_cat = pd.CategoricalDtype(categories=bands, ordered=True)\n",
    "apps['approved_amount_ord'] = apps['approved_amount'].astype(approved_cat)"
   ]
  },
  {
   "cell_type": "markdown",
   "id": "36829da5",
   "metadata": {},
   "source": [
    "Impute missing risk_score values with a simple linear regression model using the approved maximum amount and the requested amount."
   ]
  },
  {
   "cell_type": "code",
   "execution_count": 213,
   "id": "146c3dd4",
   "metadata": {},
   "outputs": [],
   "source": [
    "# Function to convert approved_amount band into a max numeric value for risk_score imputation\n",
    "def extract_max_amount(value: str) -> float:\n",
    "    if pd.isna(value):\n",
    "        return np.nan\n",
    "    if value == 'over 500000':\n",
    "        return 750_000  # An arbitrary upper cap\n",
    "    elif value == 'up to 1000':\n",
    "        return 1000\n",
    "    else:\n",
    "        try:\n",
    "            # Extract the upper number from ranges like '1000-5000'\n",
    "            return int(value.split('-')[1])\n",
    "        except:  \n",
    "            return np.nan\n",
    "\n",
    "# Apply the function to create a numeric column\n",
    "apps['approved_amount_max'] = apps['approved_amount'].apply(extract_max_amount).astype(float)"
   ]
  },
  {
   "cell_type": "code",
   "execution_count": 214,
   "id": "fabc58d2",
   "metadata": {},
   "outputs": [
    {
     "data": {
      "text/html": [
       "<div>\n",
       "<style scoped>\n",
       "    .dataframe tbody tr th:only-of-type {\n",
       "        vertical-align: middle;\n",
       "    }\n",
       "\n",
       "    .dataframe tbody tr th {\n",
       "        vertical-align: top;\n",
       "    }\n",
       "\n",
       "    .dataframe thead th {\n",
       "        text-align: right;\n",
       "    }\n",
       "</style>\n",
       "<table border=\"1\" class=\"dataframe\">\n",
       "  <thead>\n",
       "    <tr style=\"text-align: right;\">\n",
       "      <th></th>\n",
       "      <th>application_id</th>\n",
       "      <th>company_id</th>\n",
       "      <th>application_date</th>\n",
       "      <th>requested_amount</th>\n",
       "      <th>approved_amount</th>\n",
       "      <th>risk_score</th>\n",
       "      <th>invoice_id</th>\n",
       "      <th>app_date_only</th>\n",
       "      <th>app_day_of_week</th>\n",
       "      <th>app_time</th>\n",
       "      <th>requested_amount_clean</th>\n",
       "      <th>log_requested_amount</th>\n",
       "      <th>approved_amount_ord</th>\n",
       "      <th>approved_amount_max</th>\n",
       "    </tr>\n",
       "  </thead>\n",
       "  <tbody>\n",
       "    <tr>\n",
       "      <th>0</th>\n",
       "      <td>1</td>\n",
       "      <td>63</td>\n",
       "      <td>2022-02-01 09:07:00</td>\n",
       "      <td>78</td>\n",
       "      <td>10000-50000</td>\n",
       "      <td>NaN</td>\n",
       "      <td>1</td>\n",
       "      <td>2022-02-01</td>\n",
       "      <td>Tuesday</td>\n",
       "      <td>09:07:00</td>\n",
       "      <td>78</td>\n",
       "      <td>4.369448</td>\n",
       "      <td>10000-50000</td>\n",
       "      <td>50000.0</td>\n",
       "    </tr>\n",
       "    <tr>\n",
       "      <th>1</th>\n",
       "      <td>2</td>\n",
       "      <td>957</td>\n",
       "      <td>2022-02-01 09:13:00</td>\n",
       "      <td>5,352</td>\n",
       "      <td>100000-500000</td>\n",
       "      <td>1.16</td>\n",
       "      <td>2</td>\n",
       "      <td>2022-02-01</td>\n",
       "      <td>Tuesday</td>\n",
       "      <td>09:13:00</td>\n",
       "      <td>5352</td>\n",
       "      <td>8.585412</td>\n",
       "      <td>100000-500000</td>\n",
       "      <td>500000.0</td>\n",
       "    </tr>\n",
       "    <tr>\n",
       "      <th>2</th>\n",
       "      <td>3</td>\n",
       "      <td>195</td>\n",
       "      <td>2022-02-01 12:33:00</td>\n",
       "      <td>1,650</td>\n",
       "      <td>over 500000</td>\n",
       "      <td>2.26</td>\n",
       "      <td>3</td>\n",
       "      <td>2022-02-01</td>\n",
       "      <td>Tuesday</td>\n",
       "      <td>12:33:00</td>\n",
       "      <td>1650</td>\n",
       "      <td>7.409136</td>\n",
       "      <td>over 500000</td>\n",
       "      <td>750000.0</td>\n",
       "    </tr>\n",
       "    <tr>\n",
       "      <th>3</th>\n",
       "      <td>4</td>\n",
       "      <td>337</td>\n",
       "      <td>2022-02-01 12:40:00</td>\n",
       "      <td>744</td>\n",
       "      <td>over 500000</td>\n",
       "      <td>3.26</td>\n",
       "      <td>4</td>\n",
       "      <td>2022-02-01</td>\n",
       "      <td>Tuesday</td>\n",
       "      <td>12:40:00</td>\n",
       "      <td>744</td>\n",
       "      <td>6.613384</td>\n",
       "      <td>over 500000</td>\n",
       "      <td>750000.0</td>\n",
       "    </tr>\n",
       "    <tr>\n",
       "      <th>4</th>\n",
       "      <td>5</td>\n",
       "      <td>204</td>\n",
       "      <td>2022-02-01 12:58:00</td>\n",
       "      <td>617</td>\n",
       "      <td>over 500000</td>\n",
       "      <td>2.92</td>\n",
       "      <td>5</td>\n",
       "      <td>2022-02-01</td>\n",
       "      <td>Tuesday</td>\n",
       "      <td>12:58:00</td>\n",
       "      <td>617</td>\n",
       "      <td>6.426488</td>\n",
       "      <td>over 500000</td>\n",
       "      <td>750000.0</td>\n",
       "    </tr>\n",
       "  </tbody>\n",
       "</table>\n",
       "</div>"
      ],
      "text/plain": [
       "   application_id  company_id    application_date requested_amount  \\\n",
       "0               1          63 2022-02-01 09:07:00               78   \n",
       "1               2         957 2022-02-01 09:13:00            5,352   \n",
       "2               3         195 2022-02-01 12:33:00            1,650   \n",
       "3               4         337 2022-02-01 12:40:00              744   \n",
       "4               5         204 2022-02-01 12:58:00              617   \n",
       "\n",
       "  approved_amount  risk_score  invoice_id app_date_only app_day_of_week  \\\n",
       "0     10000-50000         NaN           1    2022-02-01         Tuesday   \n",
       "1   100000-500000        1.16           2    2022-02-01         Tuesday   \n",
       "2     over 500000        2.26           3    2022-02-01         Tuesday   \n",
       "3     over 500000        3.26           4    2022-02-01         Tuesday   \n",
       "4     over 500000        2.92           5    2022-02-01         Tuesday   \n",
       "\n",
       "   app_time  requested_amount_clean  log_requested_amount approved_amount_ord  \\\n",
       "0  09:07:00                      78              4.369448         10000-50000   \n",
       "1  09:13:00                    5352              8.585412       100000-500000   \n",
       "2  12:33:00                    1650              7.409136         over 500000   \n",
       "3  12:40:00                     744              6.613384         over 500000   \n",
       "4  12:58:00                     617              6.426488         over 500000   \n",
       "\n",
       "   approved_amount_max  \n",
       "0              50000.0  \n",
       "1             500000.0  \n",
       "2             750000.0  \n",
       "3             750000.0  \n",
       "4             750000.0  "
      ]
     },
     "execution_count": 214,
     "metadata": {},
     "output_type": "execute_result"
    }
   ],
   "source": [
    "apps.head()"
   ]
  },
  {
   "cell_type": "code",
   "execution_count": 215,
   "id": "85d07744",
   "metadata": {},
   "outputs": [
    {
     "name": "stdout",
     "output_type": "stream",
     "text": [
      "Imputed 176 risk_score values.\n",
      "Imputed risk_score range: 3.4 – 5.9\n"
     ]
    }
   ],
   "source": [
    "# Split into train (where risk_score exists) and predict (where it’s missing)\n",
    "train = apps[apps['risk_score'].notnull()]\n",
    "pred= apps[apps['risk_score'].isnull()]\n",
    "\n",
    "# Features and target\n",
    "X_train = train[['requested_amount_clean', 'approved_amount_max']]\n",
    "y_train = train['risk_score']\n",
    "X_pred = pred[['requested_amount_clean', 'approved_amount_max']]\n",
    "\n",
    "# Fit the regression\n",
    "model = LinearRegression()\n",
    "model.fit(X_train, y_train)\n",
    "\n",
    "# Predict missing values\n",
    "imputed_values = model.predict(X_pred)\n",
    "\n",
    "# Fill back into your DataFrame\n",
    "apps.loc[apps['risk_score'].isnull(), 'risk_score'] = imputed_values\n",
    "\n",
    "# Inspect how many you filled and basic stats\n",
    "n_imputed = imputed_values.shape[0]\n",
    "print(f\"Imputed {n_imputed} risk_score values.\")\n",
    "print(\"Imputed risk_score range:\",\n",
    "      imputed_values.min().round(1), \"–\", imputed_values.max().round(1))"
   ]
  },
  {
   "cell_type": "code",
   "execution_count": 216,
   "id": "df34d144",
   "metadata": {},
   "outputs": [
    {
     "data": {
      "text/plain": [
       "Index(['application_id', 'company_id', 'application_date', 'requested_amount',\n",
       "       'approved_amount', 'risk_score', 'invoice_id', 'app_date_only',\n",
       "       'app_day_of_week', 'app_time', 'requested_amount_clean',\n",
       "       'log_requested_amount', 'approved_amount_ord', 'approved_amount_max'],\n",
       "      dtype='object')"
      ]
     },
     "execution_count": 216,
     "metadata": {},
     "output_type": "execute_result"
    }
   ],
   "source": [
    "apps.columns"
   ]
  },
  {
   "cell_type": "code",
   "execution_count": 217,
   "id": "ccac3880",
   "metadata": {},
   "outputs": [
    {
     "name": "stdout",
     "output_type": "stream",
     "text": [
      "<class 'pandas.core.frame.DataFrame'>\n",
      "RangeIndex: 4000 entries, 0 to 3999\n",
      "Data columns (total 10 columns):\n",
      " #   Column                  Non-Null Count  Dtype   \n",
      "---  ------                  --------------  -----   \n",
      " 0   application_id          4000 non-null   int64   \n",
      " 1   company_id              4000 non-null   int64   \n",
      " 2   risk_score              4000 non-null   float64 \n",
      " 3   invoice_id              4000 non-null   int64   \n",
      " 4   app_date_only           4000 non-null   object  \n",
      " 5   app_day_of_week         4000 non-null   object  \n",
      " 6   app_time                4000 non-null   object  \n",
      " 7   requested_amount_clean  4000 non-null   int64   \n",
      " 8   log_requested_amount    4000 non-null   float64 \n",
      " 9   approved_amount_ord     4000 non-null   category\n",
      "dtypes: category(1), float64(2), int64(4), object(3)\n",
      "memory usage: 285.6+ KB\n"
     ]
    }
   ],
   "source": [
    "# Drop unneccasary columns\n",
    "app_cols_to_drop = ['application_date', 'requested_amount', 'approved_amount', 'approved_amount_max']\n",
    "apps.drop(columns=app_cols_to_drop, inplace=True)\n",
    "apps.info()"
   ]
  },
  {
   "cell_type": "code",
   "execution_count": 218,
   "id": "f71f1bca",
   "metadata": {},
   "outputs": [
    {
     "data": {
      "text/html": [
       "<div>\n",
       "<style scoped>\n",
       "    .dataframe tbody tr th:only-of-type {\n",
       "        vertical-align: middle;\n",
       "    }\n",
       "\n",
       "    .dataframe tbody tr th {\n",
       "        vertical-align: top;\n",
       "    }\n",
       "\n",
       "    .dataframe thead th {\n",
       "        text-align: right;\n",
       "    }\n",
       "</style>\n",
       "<table border=\"1\" class=\"dataframe\">\n",
       "  <thead>\n",
       "    <tr style=\"text-align: right;\">\n",
       "      <th></th>\n",
       "      <th>application_id</th>\n",
       "      <th>company_id</th>\n",
       "      <th>risk_score</th>\n",
       "      <th>invoice_id</th>\n",
       "      <th>app_date_only</th>\n",
       "      <th>app_day_of_week</th>\n",
       "      <th>app_time</th>\n",
       "      <th>requested_amount_clean</th>\n",
       "      <th>log_requested_amount</th>\n",
       "      <th>approved_amount_ord</th>\n",
       "    </tr>\n",
       "  </thead>\n",
       "  <tbody>\n",
       "    <tr>\n",
       "      <th>0</th>\n",
       "      <td>1</td>\n",
       "      <td>63</td>\n",
       "      <td>5.701493</td>\n",
       "      <td>1</td>\n",
       "      <td>2022-02-01</td>\n",
       "      <td>Tuesday</td>\n",
       "      <td>09:07:00</td>\n",
       "      <td>78</td>\n",
       "      <td>4.369448</td>\n",
       "      <td>10000-50000</td>\n",
       "    </tr>\n",
       "    <tr>\n",
       "      <th>1</th>\n",
       "      <td>2</td>\n",
       "      <td>957</td>\n",
       "      <td>1.160000</td>\n",
       "      <td>2</td>\n",
       "      <td>2022-02-01</td>\n",
       "      <td>Tuesday</td>\n",
       "      <td>09:13:00</td>\n",
       "      <td>5352</td>\n",
       "      <td>8.585412</td>\n",
       "      <td>100000-500000</td>\n",
       "    </tr>\n",
       "    <tr>\n",
       "      <th>2</th>\n",
       "      <td>3</td>\n",
       "      <td>195</td>\n",
       "      <td>2.260000</td>\n",
       "      <td>3</td>\n",
       "      <td>2022-02-01</td>\n",
       "      <td>Tuesday</td>\n",
       "      <td>12:33:00</td>\n",
       "      <td>1650</td>\n",
       "      <td>7.409136</td>\n",
       "      <td>over 500000</td>\n",
       "    </tr>\n",
       "    <tr>\n",
       "      <th>3</th>\n",
       "      <td>4</td>\n",
       "      <td>337</td>\n",
       "      <td>3.260000</td>\n",
       "      <td>4</td>\n",
       "      <td>2022-02-01</td>\n",
       "      <td>Tuesday</td>\n",
       "      <td>12:40:00</td>\n",
       "      <td>744</td>\n",
       "      <td>6.613384</td>\n",
       "      <td>over 500000</td>\n",
       "    </tr>\n",
       "    <tr>\n",
       "      <th>4</th>\n",
       "      <td>5</td>\n",
       "      <td>204</td>\n",
       "      <td>2.920000</td>\n",
       "      <td>5</td>\n",
       "      <td>2022-02-01</td>\n",
       "      <td>Tuesday</td>\n",
       "      <td>12:58:00</td>\n",
       "      <td>617</td>\n",
       "      <td>6.426488</td>\n",
       "      <td>over 500000</td>\n",
       "    </tr>\n",
       "  </tbody>\n",
       "</table>\n",
       "</div>"
      ],
      "text/plain": [
       "   application_id  company_id  risk_score  invoice_id app_date_only  \\\n",
       "0               1          63    5.701493           1    2022-02-01   \n",
       "1               2         957    1.160000           2    2022-02-01   \n",
       "2               3         195    2.260000           3    2022-02-01   \n",
       "3               4         337    3.260000           4    2022-02-01   \n",
       "4               5         204    2.920000           5    2022-02-01   \n",
       "\n",
       "  app_day_of_week  app_time  requested_amount_clean  log_requested_amount  \\\n",
       "0         Tuesday  09:07:00                      78              4.369448   \n",
       "1         Tuesday  09:13:00                    5352              8.585412   \n",
       "2         Tuesday  12:33:00                    1650              7.409136   \n",
       "3         Tuesday  12:40:00                     744              6.613384   \n",
       "4         Tuesday  12:58:00                     617              6.426488   \n",
       "\n",
       "  approved_amount_ord  \n",
       "0         10000-50000  \n",
       "1       100000-500000  \n",
       "2         over 500000  \n",
       "3         over 500000  \n",
       "4         over 500000  "
      ]
     },
     "execution_count": 218,
     "metadata": {},
     "output_type": "execute_result"
    }
   ],
   "source": [
    "apps.head()"
   ]
  },
  {
   "cell_type": "markdown",
   "id": "fed962a1",
   "metadata": {},
   "source": [
    "## 3.2 Payment Performance (`payments`)"
   ]
  },
  {
   "cell_type": "code",
   "execution_count": 219,
   "id": "28454976",
   "metadata": {},
   "outputs": [
    {
     "name": "stdout",
     "output_type": "stream",
     "text": [
      "<class 'pandas.core.frame.DataFrame'>\n",
      "RangeIndex: 4000 entries, 0 to 3999\n",
      "Data columns (total 7 columns):\n",
      " #   Column          Non-Null Count  Dtype         \n",
      "---  ------          --------------  -----         \n",
      " 0   company_id      4000 non-null   int64         \n",
      " 1   invoice_id      4000 non-null   int64         \n",
      " 2   invoice_amount  4000 non-null   object        \n",
      " 3   invoice_date    4000 non-null   datetime64[ns]\n",
      " 4   due_date        4000 non-null   datetime64[ns]\n",
      " 5   payment_date    3732 non-null   datetime64[ns]\n",
      " 6   default_status  4000 non-null   bool          \n",
      "dtypes: bool(1), datetime64[ns](3), int64(2), object(1)\n",
      "memory usage: 191.5+ KB\n"
     ]
    }
   ],
   "source": [
    "payments.info()"
   ]
  },
  {
   "cell_type": "code",
   "execution_count": 220,
   "id": "f553a62b",
   "metadata": {},
   "outputs": [
    {
     "data": {
      "text/plain": [
       "Index(['company_id', 'invoice_id', 'invoice_amount', 'invoice_date',\n",
       "       'due_date', 'payment_date', 'default_status'],\n",
       "      dtype='object')"
      ]
     },
     "execution_count": 220,
     "metadata": {},
     "output_type": "execute_result"
    }
   ],
   "source": [
    "payments.columns"
   ]
  },
  {
   "cell_type": "code",
   "execution_count": 221,
   "id": "ded4ea51",
   "metadata": {},
   "outputs": [],
   "source": [
    "# clean the messy invoice amount feature\n",
    "payments['invoice_amount_clean'] = payments['invoice_amount'].astype(str) \\\n",
    "    .str.replace(',', '', regex=False)\n",
    "\n",
    "payments['invoice_amount_clean'] = pd.to_numeric(\n",
    "    payments['invoice_amount_clean'], errors='coerce'\n",
    ")"
   ]
  },
  {
   "cell_type": "code",
   "execution_count": 222,
   "id": "abbc88b8",
   "metadata": {},
   "outputs": [],
   "source": [
    "# Create the feature days from invoice issuance to due date 'days_until_due'\n",
    "payments['days_until_due'] = (\n",
    "    payments['due_date'] - payments['invoice_date']\n",
    ").dt.days"
   ]
  },
  {
   "cell_type": "code",
   "execution_count": 223,
   "id": "fefab326",
   "metadata": {},
   "outputs": [],
   "source": [
    "# Create feature days between due date and actual payment\n",
    "# (positive if late, negative if early)\n",
    "payments['days_past_due'] = (\n",
    "    payments['payment_date'] - payments['due_date']\n",
    ").dt.days"
   ]
  },
  {
   "cell_type": "code",
   "execution_count": null,
   "id": "3f4ee66c",
   "metadata": {},
   "outputs": [],
   "source": [
    "# Create a flag if paid on time or early\n",
    "#    True = payment_date <= due_date (on-time or early)\n",
    "#    False = payment_date > due_date  (late)\n",
    "payments['paid_on_time'] = (\n",
    "    payments['payment_date'] <= payments['due_date']\n",
    ")"
   ]
  },
  {
   "cell_type": "code",
   "execution_count": 225,
   "id": "50b6f8ae",
   "metadata": {},
   "outputs": [
    {
     "name": "stdout",
     "output_type": "stream",
     "text": [
      "<class 'pandas.core.frame.DataFrame'>\n",
      "RangeIndex: 4000 entries, 0 to 3999\n",
      "Data columns (total 11 columns):\n",
      " #   Column                Non-Null Count  Dtype         \n",
      "---  ------                --------------  -----         \n",
      " 0   company_id            4000 non-null   int64         \n",
      " 1   invoice_id            4000 non-null   int64         \n",
      " 2   invoice_amount        4000 non-null   object        \n",
      " 3   invoice_date          4000 non-null   datetime64[ns]\n",
      " 4   due_date              4000 non-null   datetime64[ns]\n",
      " 5   payment_date          3732 non-null   datetime64[ns]\n",
      " 6   default_status        4000 non-null   bool          \n",
      " 7   invoice_amount_clean  4000 non-null   int64         \n",
      " 8   days_until_due        4000 non-null   int64         \n",
      " 9   days_past_due         3732 non-null   float64       \n",
      " 10  paid_on_time          4000 non-null   bool          \n",
      "dtypes: bool(2), datetime64[ns](3), float64(1), int64(4), object(1)\n",
      "memory usage: 289.2+ KB\n"
     ]
    }
   ],
   "source": [
    "payments.info()"
   ]
  },
  {
   "cell_type": "markdown",
   "id": "2abd6625",
   "metadata": {},
   "source": [
    "We can't use payment date, days_past_due or paid_on_time in a predictive model, as this would be a form of data leakage."
   ]
  },
  {
   "cell_type": "code",
   "execution_count": 226,
   "id": "9e2c303d",
   "metadata": {},
   "outputs": [],
   "source": [
    "# Drop unneccasary columns\n",
    "paym_cols_to_drop = ['invoice_amount']\n",
    "payments.drop(columns=paym_cols_to_drop, inplace=True)"
   ]
  },
  {
   "cell_type": "markdown",
   "id": "7040f3ef",
   "metadata": {},
   "source": [
    "## 3.3 Company Data (`company`)"
   ]
  },
  {
   "cell_type": "code",
   "execution_count": 227,
   "id": "16e4ceca",
   "metadata": {},
   "outputs": [
    {
     "data": {
      "text/html": [
       "<div>\n",
       "<style scoped>\n",
       "    .dataframe tbody tr th:only-of-type {\n",
       "        vertical-align: middle;\n",
       "    }\n",
       "\n",
       "    .dataframe tbody tr th {\n",
       "        vertical-align: top;\n",
       "    }\n",
       "\n",
       "    .dataframe thead th {\n",
       "        text-align: right;\n",
       "    }\n",
       "</style>\n",
       "<table border=\"1\" class=\"dataframe\">\n",
       "  <thead>\n",
       "    <tr style=\"text-align: right;\">\n",
       "      <th></th>\n",
       "      <th>company_id</th>\n",
       "      <th>incorporation_date</th>\n",
       "      <th>external_credit_rating</th>\n",
       "      <th>industry_segment</th>\n",
       "      <th>working_capital</th>\n",
       "      <th>net_worth</th>\n",
       "      <th>legal_form</th>\n",
       "      <th>postcode_area</th>\n",
       "    </tr>\n",
       "  </thead>\n",
       "  <tbody>\n",
       "    <tr>\n",
       "      <th>1453</th>\n",
       "      <td>1454</td>\n",
       "      <td>2022-05-05</td>\n",
       "      <td>Moderate Risk</td>\n",
       "      <td>AccommFood</td>\n",
       "      <td>114254.0</td>\n",
       "      <td>194692.0</td>\n",
       "      <td>Private limited with Share Capital</td>\n",
       "      <td>EH2</td>\n",
       "    </tr>\n",
       "    <tr>\n",
       "      <th>1454</th>\n",
       "      <td>1455</td>\n",
       "      <td>2022-05-18</td>\n",
       "      <td>Moderate Risk</td>\n",
       "      <td>WholesaleRetail</td>\n",
       "      <td>114254.0</td>\n",
       "      <td>194692.0</td>\n",
       "      <td>Private limited with Share Capital</td>\n",
       "      <td>PL4</td>\n",
       "    </tr>\n",
       "    <tr>\n",
       "      <th>1455</th>\n",
       "      <td>1456</td>\n",
       "      <td>2022-05-28</td>\n",
       "      <td>Moderate Risk</td>\n",
       "      <td>ArtsRecr</td>\n",
       "      <td>114254.0</td>\n",
       "      <td>194692.0</td>\n",
       "      <td>Private limited with Share Capital</td>\n",
       "      <td>N1</td>\n",
       "    </tr>\n",
       "    <tr>\n",
       "      <th>1456</th>\n",
       "      <td>1457</td>\n",
       "      <td>2022-06-14</td>\n",
       "      <td>Moderate Risk</td>\n",
       "      <td>AccommFood</td>\n",
       "      <td>114254.0</td>\n",
       "      <td>194692.0</td>\n",
       "      <td>Private limited with Share Capital</td>\n",
       "      <td>DA12</td>\n",
       "    </tr>\n",
       "    <tr>\n",
       "      <th>1457</th>\n",
       "      <td>1458</td>\n",
       "      <td>2022-09-22</td>\n",
       "      <td>Moderate Risk</td>\n",
       "      <td>Construct</td>\n",
       "      <td>114254.0</td>\n",
       "      <td>194692.0</td>\n",
       "      <td>Private limited with Share Capital</td>\n",
       "      <td>DA1</td>\n",
       "    </tr>\n",
       "  </tbody>\n",
       "</table>\n",
       "</div>"
      ],
      "text/plain": [
       "      company_id incorporation_date external_credit_rating industry_segment  \\\n",
       "1453        1454         2022-05-05          Moderate Risk       AccommFood   \n",
       "1454        1455         2022-05-18          Moderate Risk  WholesaleRetail   \n",
       "1455        1456         2022-05-28          Moderate Risk         ArtsRecr   \n",
       "1456        1457         2022-06-14          Moderate Risk       AccommFood   \n",
       "1457        1458         2022-09-22          Moderate Risk        Construct   \n",
       "\n",
       "      working_capital  net_worth                          legal_form  \\\n",
       "1453         114254.0   194692.0  Private limited with Share Capital   \n",
       "1454         114254.0   194692.0  Private limited with Share Capital   \n",
       "1455         114254.0   194692.0  Private limited with Share Capital   \n",
       "1456         114254.0   194692.0  Private limited with Share Capital   \n",
       "1457         114254.0   194692.0  Private limited with Share Capital   \n",
       "\n",
       "     postcode_area  \n",
       "1453           EH2  \n",
       "1454           PL4  \n",
       "1455            N1  \n",
       "1456          DA12  \n",
       "1457           DA1  "
      ]
     },
     "execution_count": 227,
     "metadata": {},
     "output_type": "execute_result"
    }
   ],
   "source": [
    "company.tail()"
   ]
  },
  {
   "cell_type": "code",
   "execution_count": 228,
   "id": "9a6bda80",
   "metadata": {},
   "outputs": [
    {
     "data": {
      "text/plain": [
       "array(['unknown', 'Royal Charter Company', 'Low Risk', 'Moderate Risk',\n",
       "       'Very Low Risk', 'High Risk', 'Analysed - Non balancing',\n",
       "       'Non trading'], dtype=object)"
      ]
     },
     "execution_count": 228,
     "metadata": {},
     "output_type": "execute_result"
    }
   ],
   "source": [
    "company['external_credit_rating'].unique()"
   ]
  },
  {
   "cell_type": "markdown",
   "id": "3cf92725",
   "metadata": {},
   "source": [
    "Decision to split `external_credit_rating` into a categorical column `type_of_external_credit_rating` which takes on values:\n",
    "1. 'External credit risk' (if it has value  'Low Risk', 'Moderate Risk', 'Very Low Risk', 'High Risk'  in the external_credit_rating column)\n",
    "2. 'Analysed non balancing'\n",
    "3. 'Non trading'\n",
    "4. 'Royal charter company'\n",
    "5.  'unknown'\n",
    "\n",
    "And an ordinal column `external_credit_rating_label` which captures actual ordinal risk:\n",
    "1. 'Very Low Risk'\n",
    "2. 'Low Risk'\n",
    "3. 'Moderate Risk'\n",
    "4. 'High Risk'\n",
    "\n",
    "This way, we can obtain value from the **ordinal** credit risk ratings without forcing meaning in the ranking of the **'Analysed non balancing'**, **'Non trading'** or **'Royal charter company'** ratings."
   ]
  },
  {
   "cell_type": "code",
   "execution_count": 229,
   "id": "f61402a2",
   "metadata": {},
   "outputs": [
    {
     "name": "stdout",
     "output_type": "stream",
     "text": [
      "<class 'pandas.core.frame.DataFrame'>\n",
      "RangeIndex: 1458 entries, 0 to 1457\n",
      "Data columns (total 9 columns):\n",
      " #   Column                          Non-Null Count  Dtype         \n",
      "---  ------                          --------------  -----         \n",
      " 0   company_id                      1458 non-null   int64         \n",
      " 1   incorporation_date              1458 non-null   datetime64[ns]\n",
      " 2   industry_segment                1458 non-null   object        \n",
      " 3   working_capital                 1458 non-null   float64       \n",
      " 4   net_worth                       1458 non-null   float64       \n",
      " 5   legal_form                      1458 non-null   object        \n",
      " 6   postcode_area                   1458 non-null   object        \n",
      " 7   type_of_external_credit_rating  1458 non-null   category      \n",
      " 8   external_credit_rating_label    1334 non-null   category      \n",
      "dtypes: category(2), datetime64[ns](1), float64(2), int64(1), object(3)\n",
      "memory usage: 83.1+ KB\n"
     ]
    }
   ],
   "source": [
    "# Define risk levels\n",
    "ordinal_ratings = ['Very Low Risk', 'Low Risk', 'Moderate Risk', 'High Risk']\n",
    "\n",
    "def get_type_of_external_credit_rating(val: Optional[str]) -> Optional[str]:\n",
    "    if pd.isna(val):\n",
    "        return np.nan\n",
    "    elif val in ordinal_ratings:\n",
    "        return 'External credit risk'\n",
    "    else:\n",
    "        return val\n",
    "        \n",
    "def get_external_credit_rating_label(val: Optional[str]) -> Optional[str]:\n",
    "    return val if val in ordinal_ratings else np.nan\n",
    "\n",
    "# Apply to DataFrame\n",
    "company['type_of_external_credit_rating'] = company['external_credit_rating'].apply(get_type_of_external_credit_rating)\n",
    "company['external_credit_rating_label'] = company['external_credit_rating'].apply(get_external_credit_rating_label)\n",
    "\n",
    "# Convert rating label to ordered category\n",
    "company['external_credit_rating_label'] = pd.Categorical(\n",
    "    company['external_credit_rating_label'],\n",
    "    categories=['Very Low Risk', 'Low Risk', 'Moderate Risk', 'High Risk'],\n",
    "    ordered=True\n",
    ")\n",
    "\n",
    "# Convert type_of_external_credit_rating to a categorical feature\n",
    "company['type_of_external_credit_rating'] = pd.Categorical(company['type_of_external_credit_rating'])\n",
    "\n",
    "# Drop the original external_credit_rating column\n",
    "# Drop unneccasary columns\n",
    "company_cols_to_drop = ['external_credit_rating']\n",
    "company.drop(columns=company_cols_to_drop, inplace=True)\n",
    "company.info()"
   ]
  },
  {
   "cell_type": "code",
   "execution_count": 43,
   "id": "47d5c617",
   "metadata": {},
   "outputs": [],
   "source": [
    "# Convert industry_segment to a categorical feature\n",
    "company['industry_segment'] = pd.Categorical(company['industry_segment'])\n",
    "\n",
    "# Convert legal_form to a categorical feature\n",
    "company['legal_form'] = pd.Categorical(company['legal_form'])\n",
    "\n",
    "# Convert postcode_area to a categorical feature\n",
    "company['postcode_area'] = pd.Categorical(company['postcode_area'])\n"
   ]
  },
  {
   "cell_type": "code",
   "execution_count": 44,
   "id": "b91bae54",
   "metadata": {},
   "outputs": [],
   "source": [
    "# Calculate age in years (rounded down)\n",
    "company['company_age'] = (pd.to_datetime(\"today\") - company['incorporation_date']).dt.days // 365"
   ]
  },
  {
   "cell_type": "code",
   "execution_count": 45,
   "id": "44a91b8b",
   "metadata": {},
   "outputs": [],
   "source": [
    "# Create a Boolean flag for the Construction segment\n",
    "company['is_construction'] = company['industry_segment'] == 'Construct'"
   ]
  },
  {
   "cell_type": "code",
   "execution_count": 46,
   "id": "1adb266d",
   "metadata": {},
   "outputs": [],
   "source": [
    "# Add log-transformed columns (adding 1 to avoid log(0))\n",
    "company[\"log_working_capital\"] = np.log1p(company[\"working_capital\"])\n",
    "company[\"log_net_worth\"] = np.log1p(company[\"net_worth\"])"
   ]
  },
  {
   "cell_type": "code",
   "execution_count": 47,
   "id": "f022850a",
   "metadata": {},
   "outputs": [],
   "source": [
    "# Create a segment group column for future comparisons\n",
    "company['sector_group'] = company['is_construction'].map({True: \"Construction\", False: \"Other Sectors\"})"
   ]
  },
  {
   "cell_type": "markdown",
   "id": "05272461",
   "metadata": {},
   "source": [
    "# 4. Save new dataframes"
   ]
  },
  {
   "cell_type": "markdown",
   "id": "9a486afe",
   "metadata": {},
   "source": [
    "Save each processed df under data/processed as a pkl file, these are Python-specific but extremely fast."
   ]
  },
  {
   "cell_type": "code",
   "execution_count": 48,
   "id": "8be57a1c",
   "metadata": {},
   "outputs": [],
   "source": [
    "# Define output path\n",
    "output_path = \"../data/processed/\"\n",
    "\n",
    "# Save each DataFrame as a CSV file\n",
    "apps.to_pickle(f\"{output_path}applications.pkl\")\n",
    "company.to_pickle(f\"{output_path}company.pkl\")\n",
    "payments.to_pickle(f\"{output_path}payment.pkl\")"
   ]
  },
  {
   "cell_type": "markdown",
   "id": "d847ac57",
   "metadata": {},
   "source": [
    "Create one df with all information for easy model creation and store it under data/processed as well."
   ]
  },
  {
   "cell_type": "code",
   "execution_count": 49,
   "id": "f84b7342",
   "metadata": {},
   "outputs": [
    {
     "name": "stdout",
     "output_type": "stream",
     "text": [
      "['company_id', 'invoice_id', 'invoice_date', 'due_date', 'payment_date', 'default_status', 'invoice_amount_clean', 'days_until_due', 'days_past_due', 'paid_on_time', 'incorporation_date', 'industry_segment', 'working_capital', 'net_worth', 'legal_form', 'postcode_area', 'type_of_external_credit_rating', 'external_credit_rating_label', 'company_age', 'is_construction', 'log_working_capital', 'log_net_worth', 'sector_group', 'application_id', 'risk_score', 'app_date_only', 'app_day_of_week', 'app_time', 'requested_amount_clean', 'log_requested_amount', 'approved_amount_ord']\n",
      "   default_status  company_id  invoice_id\n",
      "0           False         337          31\n",
      "1           False        1006          11\n",
      "2           False         490          33\n",
      "3           False          63           1\n",
      "4           False        1175          25\n"
     ]
    }
   ],
   "source": [
    "# Copy the payments DataFrame (which has default_status)\n",
    "df_merged = payments.copy(deep=True)\n",
    "\n",
    "# Merge company data by company_id\n",
    "df_merged = df_merged.merge(\n",
    "    company,\n",
    "    on='company_id',\n",
    "    how='left',\n",
    "    suffixes=(None, '_company')\n",
    ")\n",
    "\n",
    "# Merge application data by invoice_id, dropping redundant company_id from apps\n",
    "apps_subset = apps.drop(columns=['company_id'])\n",
    "df_merged = df_merged.merge(\n",
    "    apps_subset,\n",
    "    on='invoice_id',\n",
    "    how='left',\n",
    "    suffixes=(None, '_app')\n",
    ")\n",
    "\n",
    "# Inspect the merged schema\n",
    "print(df_merged.columns.tolist())\n",
    "print(df_merged[['default_status', 'company_id', 'invoice_id']].head())\n",
    "\n",
    "# Save this combined dataset\n",
    "df_merged.to_pickle(f\"{output_path}merged.pkl\")"
   ]
  },
  {
   "cell_type": "markdown",
   "id": "66795fbd",
   "metadata": {},
   "source": [
    "Future Ideas:\n",
    "Location for postal codes\n",
    "A company's individual history - i.e. if they have not defaulted in the last few applications are they a safer risk or if they have recently defaulted are they riskier etc."
   ]
  }
 ],
 "metadata": {
  "kernelspec": {
   "display_name": "risk-assessment-env",
   "language": "python",
   "name": "python3"
  },
  "language_info": {
   "codemirror_mode": {
    "name": "ipython",
    "version": 3
   },
   "file_extension": ".py",
   "mimetype": "text/x-python",
   "name": "python",
   "nbconvert_exporter": "python",
   "pygments_lexer": "ipython3",
   "version": "3.13.4"
  }
 },
 "nbformat": 4,
 "nbformat_minor": 5
}
